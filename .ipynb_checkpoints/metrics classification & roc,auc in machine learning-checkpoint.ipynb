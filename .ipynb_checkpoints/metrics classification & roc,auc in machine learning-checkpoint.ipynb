{
 "cells": [
  {
   "cell_type": "code",
   "execution_count": 1,
   "id": "a7210ab4",
   "metadata": {},
   "outputs": [],
   "source": [
    "from sklearn import metrics"
   ]
  },
  {
   "cell_type": "code",
   "execution_count": 2,
   "id": "024d5fa0",
   "metadata": {},
   "outputs": [],
   "source": [
    "C='Cat'\n",
    "D='Dog'\n",
    "F='Fox'"
   ]
  },
  {
   "cell_type": "code",
   "execution_count": 3,
   "id": "464b7add",
   "metadata": {},
   "outputs": [],
   "source": [
    "y_true=[C,C,C,C,C,C,F,F,F,F,F,F,F,F,F,F,D,D,D,D,D,D,D,D,D,]\n",
    "y_pred=[C,C,C,C,D,F,C,C,C,C,C,C,D,D,F,F,C,C,C,D,D,D,D,D,D,]"
   ]
  },
  {
   "cell_type": "code",
   "execution_count": 4,
   "id": "5cda2479",
   "metadata": {},
   "outputs": [
    {
     "name": "stdout",
     "output_type": "stream",
     "text": [
      "[[4 1 1]\n",
      " [3 6 0]\n",
      " [6 2 2]]\n"
     ]
    }
   ],
   "source": [
    "print(metrics.confusion_matrix(y_true,y_pred))"
   ]
  },
  {
   "cell_type": "code",
   "execution_count": 6,
   "id": "9550f98b",
   "metadata": {},
   "outputs": [
    {
     "name": "stdout",
     "output_type": "stream",
     "text": [
      "              precision    recall  f1-score   support\n",
      "\n",
      "         Cat       0.31      0.67      0.42         6\n",
      "         Dog       0.67      0.67      0.67         9\n",
      "         Fox       0.67      0.20      0.31        10\n",
      "\n",
      "    accuracy                           0.48        25\n",
      "   macro avg       0.55      0.51      0.47        25\n",
      "weighted avg       0.58      0.48      0.46        25\n",
      "\n"
     ]
    }
   ],
   "source": [
    "print(metrics.classification_report(y_true,y_pred))"
   ]
  }
 ],
 "metadata": {
  "kernelspec": {
   "display_name": "Python 3 (ipykernel)",
   "language": "python",
   "name": "python3"
  },
  "language_info": {
   "codemirror_mode": {
    "name": "ipython",
    "version": 3
   },
   "file_extension": ".py",
   "mimetype": "text/x-python",
   "name": "python",
   "nbconvert_exporter": "python",
   "pygments_lexer": "ipython3",
   "version": "3.9.15"
  }
 },
 "nbformat": 4,
 "nbformat_minor": 5
}
